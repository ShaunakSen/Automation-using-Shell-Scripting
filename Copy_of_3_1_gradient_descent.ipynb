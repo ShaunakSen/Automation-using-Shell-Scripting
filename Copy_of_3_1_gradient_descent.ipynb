{
  "nbformat": 4,
  "nbformat_minor": 0,
  "metadata": {
    "colab": {
      "name": "Copy of 3_1_gradient_descent.ipynb",
      "version": "0.3.2",
      "provenance": [],
      "collapsed_sections": [],
      "include_colab_link": true
    },
    "kernelspec": {
      "display_name": "Python 3",
      "language": "python",
      "name": "python3"
    }
  },
  "cells": [
    {
      "cell_type": "markdown",
      "metadata": {
        "id": "view-in-github",
        "colab_type": "text"
      },
      "source": [
        "<a href=\"https://colab.research.google.com/github/ShaunakSen/Automation-using-Shell-Scripting/blob/master/Copy_of_3_1_gradient_descent.ipynb\" target=\"_parent\"><img src=\"https://colab.research.google.com/assets/colab-badge.svg\" alt=\"Open In Colab\"/></a>"
      ]
    },
    {
      "metadata": {
        "deletable": false,
        "editable": false,
        "nbgrader": {
          "checksum": "fd2c27ac75b58ab9cfdb05285bcf0292",
          "grade": false,
          "grade_id": "cell-9eeeb7abc468a506",
          "locked": true,
          "schema_version": 1,
          "solution": false
        },
        "id": "UfVVzk9wazqm",
        "colab_type": "text"
      },
      "cell_type": "markdown",
      "source": [
        "# Part 1: Gradient Descent"
      ]
    },
    {
      "metadata": {
        "deletable": false,
        "editable": false,
        "nbgrader": {
          "checksum": "7515d498d97561d9884b0802387b3be4",
          "grade": false,
          "grade_id": "cell-52980e134e2f9e19",
          "locked": true,
          "schema_version": 1,
          "solution": false
        },
        "id": "DbNxvQhGazqn",
        "colab_type": "text"
      },
      "cell_type": "markdown",
      "source": [
        "In this lab we will implement some of the optimisation methods we learned in the lecture. First, we will start by revisiting gradient descent for linear regression. However, in this implementation we will observe how the model parameters are updated over iterations of the gradient descent algorithm. \n",
        "\n",
        "Let's start by implementing gradient descent on a simple linear regression dataset, like the one you generated in Lab 1, but this time shifted so that it ranges from -5 to 5."
      ]
    },
    {
      "metadata": {
        "deletable": false,
        "nbgrader": {
          "checksum": "ca9cf8bef763c9249a69f3120f9749b4",
          "grade": true,
          "grade_id": "cell-02c39c20df2f2d24",
          "locked": false,
          "points": 1,
          "schema_version": 1,
          "solution": true
        },
        "id": "4oYv9NjNazqp",
        "colab_type": "code",
        "outputId": "f2a58ce5-7ff6-46c6-8d16-89dbe0e7a648",
        "colab": {
          "base_uri": "https://localhost:8080/",
          "height": 361
        }
      },
      "cell_type": "code",
      "source": [
        "import torch\n",
        "import matplotlib.pyplot as plt\n",
        "import numpy as np\n",
        "\n",
        "## generate M data points roughly forming a line (noise added)\n",
        "M = 100\n",
        "theta_true = torch.Tensor([[0.5], [2]])\n",
        "\n",
        "\n",
        "X = 10 * torch.rand(M, 2) - 5\n",
        "X[:, 1] = 1.0\n",
        "\n",
        "# print(X.shape)\n",
        "\n",
        "y = torch.mm(X, theta_true) + 0.3 * torch.randn(M, 1)\n",
        "\n",
        "# print(y.shape)\n",
        "\n",
        "# print(X[:,0].numpy())\n",
        "\n",
        "# print(y.numpy().reshape(1,100)[0])\n",
        "\n",
        "plt.scatter(X[:,0].numpy(), y.numpy().reshape(1,100)[0]);\n",
        "plt.xlabel(\"X\");\n",
        "plt.ylabel(\"y\");\n",
        "\n",
        "## visualise the data by plotting it\n",
        "# YOUR CODE HERE\n",
        "# raise NotImplementedError()"
      ],
      "execution_count": 7,
      "outputs": [
        {
          "output_type": "display_data",
          "data": {
            "image/png": "[encoded data removed]",
            "text/plain": [
              "<Figure size 576x396 with 1 Axes>"
            ]
          },
          "metadata": {
            "tags": []
          }
        }
      ]
    },
    {
      "metadata": {
        "deletable": false,
        "editable": false,
        "nbgrader": {
          "checksum": "0b22b69e67951075996148ee0cb75f26",
          "grade": false,
          "grade_id": "cell-4c65a1279417a414",
          "locked": true,
          "schema_version": 1,
          "solution": false
        },
        "id": "0Y_HyeZgazqs",
        "colab_type": "text"
      },
      "cell_type": "markdown",
      "source": [
        "You should now have data points according to y = mx + b where m = theta_true[0,0] and b = theta_true[1,0]. Note, $m = \\theta_1$ and $b = \\theta_0$.\n",
        "\n",
        "Now, let's implement gradient descent using the Mean Squared Error (MSE) cost function. \n",
        "\n",
        "Recall that: \n",
        "\n",
        "$J(\\theta) = \\frac{1}{2 M} \\sum_{i = 1}^M (h_{\\theta} (x^{(i)}) - y^{(i)} )^2$\n",
        "\n",
        "for $i = 1 \\text{  to iters (or until convergence)}$ <br>\n",
        "\n",
        "$\\hspace{1cm} w_i \\leftarrow w_i - \\eta \\frac{\\partial J}{\\partial w_i}$\n",
        "\n",
        "Implement the functions below in order to plot the cost function as well as the weight updates over iterations of gradient descent."
      ]
    },
    {
      "metadata": {
        "deletable": false,
        "nbgrader": {
          "checksum": "f7f41955a715267d6d73e184b8b43388",
          "grade": true,
          "grade_id": "cell-a52e2455d84ff4da",
          "locked": false,
          "points": 5,
          "schema_version": 1,
          "solution": true
        },
        "id": "d5KKXaH2azqt",
        "colab_type": "code",
        "colab": {}
      },
      "cell_type": "code",
      "source": [
        "import numpy as np\n",
        "import matplotlib.pyplot as plt\n",
        "\n",
        "## hypothesis computes $h_theta$\n",
        "def hypothesis(theta, X):\n",
        "    # YOUR CODE HERE\n",
        "    \n",
        "    return X.mm(theta)\n",
        "  \n",
        "    \n",
        "    # raise NotImplementedError()\n",
        "\n",
        "## grad_cost_func computes the gradient of J for linear regression given J is the MSE \n",
        "def grad_cost_func(theta, X, y): \n",
        "    # YOUR CODE HERE\n",
        "    \n",
        "    M = X.shape[1]\n",
        "    \n",
        "    grad = 1/M * X.t().mm(hypothesis(theta, X) - y)\n",
        "    \n",
        "    # raise NotImplementedError()\n",
        "    \n",
        "    return grad\n",
        "\n",
        "## cost_func computes the cost function J\n",
        "def cost_func(theta, X, y): \n",
        "    # YOUR CODE HERE\n",
        "    \n",
        "    # 2x1, 100x2, 100x1\n",
        "    \n",
        "    \n",
        "    \"\"\"\n",
        "    This func should accept a matrix where each row is a value of theta_0 and theta_1\n",
        "    \n",
        "    It should return a list of losses for such rows\n",
        "    \n",
        "    cost_func(this_theta,X,y)[0] <- only one loss value comes as we are computing loss for only one theta\n",
        "    \n",
        "    J_grid = cost_func(theta_grid.t(), X, y) : 100 loss values for each pair of theta value from theta_grid()\n",
        "    \n",
        "    This will help us plot the fig in RHS (for 100 vals of theta_1 what was the loss)\n",
        "    \n",
        "    \"\"\"\n",
        "    \n",
        "    \n",
        "    \n",
        "    M = X.shape[1]\n",
        "    \n",
        "    h_theta = hypothesis(theta, X)\n",
        "    \n",
        "    loss = 1/2*M * ((h_theta-y).t().mm(h_theta-y))\n",
        "    \n",
        "    return [loss]\n",
        "    \n",
        "    # raise NotImplementedError()"
      ],
      "execution_count": 0,
      "outputs": []
    },
    {
      "metadata": {
        "id": "7J4S6SLBeZnt",
        "colab_type": "code",
        "outputId": "32544d5f-53f9-4238-9eea-e9b07b7d3390",
        "colab": {
          "base_uri": "https://localhost:8080/",
          "height": 52
        }
      },
      "cell_type": "code",
      "source": [
        "print(X.shape, theta_true.shape, y.shape)\n",
        "\n",
        "print(X.mm(theta_true).shape)"
      ],
      "execution_count": 9,
      "outputs": [
        {
          "output_type": "stream",
          "text": [
            "torch.Size([100, 2]) torch.Size([2, 1]) torch.Size([100, 1])\n",
            "torch.Size([100, 1])\n"
          ],
          "name": "stdout"
        }
      ]
    },
    {
      "metadata": {
        "deletable": false,
        "editable": false,
        "nbgrader": {
          "checksum": "81607b0b07d30d5873cfc349f49a5000",
          "grade": false,
          "grade_id": "cell-d0cb37c31097d491",
          "locked": true,
          "schema_version": 1,
          "solution": false
        },
        "id": "KNKJ78XFazqv",
        "colab_type": "text"
      },
      "cell_type": "markdown",
      "source": [
        "Now let's plot the updates to see what is happening as we iterate over the algorithm. First, we will plot $J$ as a function of $\\theta_1$ as well as the resulting equation of the line learned over $N=5$ iterations. Once your code is working, modify the value of $\\eta$ to see how it affects convergence.\n",
        "\n",
        "The figure below illustrates what you're aiming to plot. Note, much of the code to generate the figures is given below, you mostly need to complete the 3 functions above and then fill in a few missing lines of code below."
      ]
    },
    {
      "metadata": {
        "deletable": false,
        "editable": false,
        "nbgrader": {
          "checksum": "0c8aa3bd5465cf5b8a6d2ad5976e69ff",
          "grade": false,
          "grade_id": "cell-32de56d64c670852",
          "locked": true,
          "schema_version": 1,
          "solution": false
        },
        "id": "wOXjYE7Zazqv",
        "colab_type": "text"
      },
      "cell_type": "markdown",
      "source": [
        "<img src=\"http://comp6248.ecs.soton.ac.uk/labs/lab3/Figure1.png\">"
      ]
    },
    {
      "metadata": {
        "deletable": false,
        "editable": false,
        "nbgrader": {
          "checksum": "b50e9a89855e23ac6ffc655323c55876",
          "grade": false,
          "grade_id": "cell-59662fa076965410",
          "locked": true,
          "schema_version": 1,
          "solution": false
        },
        "id": "gdt513Fnazqw",
        "colab_type": "text"
      },
      "cell_type": "markdown",
      "source": [
        "### First generate the figure on the left hand side. This plot shows the data and the linear fit of the data as the model parameters change over the 5 iterations."
      ]
    },
    {
      "metadata": {
        "deletable": false,
        "nbgrader": {
          "checksum": "ba6c7a291b78ef143956304d0159ea52",
          "grade": true,
          "grade_id": "cell-7663cd58d1e91c37",
          "locked": false,
          "points": 2,
          "schema_version": 1,
          "solution": true
        },
        "id": "rtLNR0Toazqw",
        "colab_type": "code",
        "outputId": "20b64f1d-90f6-4e81-93ad-5c0eb7ece0d7",
        "colab": {
          "base_uri": "https://localhost:8080/",
          "height": 410
        }
      },
      "cell_type": "code",
      "source": [
        "## Now we can plot the lines over iterations\n",
        "## To do this, we start by constructing a grid of parameter pairs and their corresponding cost function values. \n",
        "\n",
        "# plot 100 pts\n",
        "x_axis = np.linspace(-1,1,100)\n",
        "# print(x_axis)\n",
        "\n",
        "\n",
        "theta_grid = torch.Tensor(len(x_axis),2)\n",
        "\n",
        "# theta_grid shape: 100x2\n",
        "\n",
        "# fill 1st col with values from x_axis and 2nd col with 2\n",
        "\n",
        "theta_grid[:,0] = torch.from_numpy(x_axis)\n",
        "theta_grid[:,1] = 2.0\n",
        "\n",
        "J_grid = cost_func(theta_grid.t(), X, y)\n",
        "\n",
        "N = 5\n",
        "eta = 0.003\n",
        "\n",
        "theta_0 = torch.Tensor([[0.0], [2.0]]) #initialise \n",
        "J_t = torch.Tensor(1,N)\n",
        "theta = torch.Tensor(2,1,N)\n",
        "J_t[:,0] = cost_func(theta_0, X, y)[0]\n",
        "theta[:,:,0] = theta_0\n",
        "\n",
        "\n",
        "\n",
        "\n",
        "for j in range(1,N):\n",
        "    last_theta = theta[:,:,j-1]\n",
        "    ## Compute the value of this_theta\n",
        "    # YOUR CODE HERE\n",
        "    # raise NotImplementedError()\n",
        "    \n",
        "    grad = grad_cost_func(last_theta, X, y)\n",
        "    \n",
        "    # print (\"Grad:\", grad)\n",
        "    \n",
        "    this_theta = last_theta - eta*grad\n",
        "    \n",
        "    \n",
        "    theta[:,:,j] = this_theta\n",
        "    J_t[:,j] = cost_func(this_theta,X,y)[0]\n",
        "    \n",
        "print(J_t, theta)\n",
        "\n",
        "\n",
        "\"\"\"\n",
        "    \n",
        "colors = ['b', 'g', 'm', 'c', 'orange']\n",
        "\n",
        "## Plot the data \n",
        "# YOUR CODE HERE\n",
        "# raise NotImplementedError()\n",
        "\n",
        "plt.xlabel(r'$x$')\n",
        "plt.ylabel(r'$y$')\n",
        "plt.title('Data and fit')\n",
        "\n",
        "\"\"\""
      ],
      "execution_count": 10,
      "outputs": [
        {
          "output_type": "stream",
          "text": [
            "[-1.         -0.97979798 -0.95959596 -0.93939394 -0.91919192 -0.8989899\n",
            " -0.87878788 -0.85858586 -0.83838384 -0.81818182 -0.7979798  -0.77777778\n",
            " -0.75757576 -0.73737374 -0.71717172 -0.6969697  -0.67676768 -0.65656566\n",
            " -0.63636364 -0.61616162 -0.5959596  -0.57575758 -0.55555556 -0.53535354\n",
            " -0.51515152 -0.49494949 -0.47474747 -0.45454545 -0.43434343 -0.41414141\n",
            " -0.39393939 -0.37373737 -0.35353535 -0.33333333 -0.31313131 -0.29292929\n",
            " -0.27272727 -0.25252525 -0.23232323 -0.21212121 -0.19191919 -0.17171717\n",
            " -0.15151515 -0.13131313 -0.11111111 -0.09090909 -0.07070707 -0.05050505\n",
            " -0.03030303 -0.01010101  0.01010101  0.03030303  0.05050505  0.07070707\n",
            "  0.09090909  0.11111111  0.13131313  0.15151515  0.17171717  0.19191919\n",
            "  0.21212121  0.23232323  0.25252525  0.27272727  0.29292929  0.31313131\n",
            "  0.33333333  0.35353535  0.37373737  0.39393939  0.41414141  0.43434343\n",
            "  0.45454545  0.47474747  0.49494949  0.51515152  0.53535354  0.55555556\n",
            "  0.57575758  0.5959596   0.61616162  0.63636364  0.65656566  0.67676768\n",
            "  0.6969697   0.71717172  0.73737374  0.75757576  0.77777778  0.7979798\n",
            "  0.81818182  0.83838384  0.85858586  0.87878788  0.8989899   0.91919192\n",
            "  0.93939394  0.95959596  0.97979798  1.        ]\n",
            "tensor([[160.1396,   8.0581,   8.0417,   8.0318,   8.0246]]) tensor([[[0.0000, 0.4763, 0.4785, 0.4786, 0.4787]],\n",
            "\n",
            "        [[2.0000, 2.0163, 2.0130, 2.0102, 2.0078]]])\n"
          ],
          "name": "stdout"
        },
        {
          "output_type": "execute_result",
          "data": {
            "text/plain": [
              "\"\\n    \\ncolors = ['b', 'g', 'm', 'c', 'orange']\\n\\n## Plot the data \\n# YOUR CODE HERE\\n# raise NotImplementedError()\\n\\nplt.xlabel(r'$x$')\\nplt.ylabel(r'$y$')\\nplt.title('Data and fit')\\n\\n\""
            ]
          },
          "metadata": {
            "tags": []
          },
          "execution_count": 10
        }
      ]
    },
    {
      "metadata": {
        "id": "v6jQo5gIDKuN",
        "colab_type": "code",
        "outputId": "2ffd6db5-d299-48a4-c81b-0a5b8166ea6a",
        "colab": {
          "base_uri": "https://localhost:8080/",
          "height": 34
        }
      },
      "cell_type": "code",
      "source": [
        "\"\"\"\n",
        "\n",
        "test = torch.Tensor(2, 1, 5)\n",
        "print(test)\n",
        "\n",
        "print(test[:,0,:])\n",
        "\n",
        "T_data = [[[1., 2.], \n",
        "           [3., 4.]],\n",
        "          [[5., 6.], \n",
        "           [7., 8.]],\n",
        "          [[9., 10.],\n",
        "           [11., 12.]]\n",
        "         ]\n",
        "\n",
        "\n",
        "T = torch.tensor(T_data)\n",
        "print(T.shape)\n",
        "\n",
        "print(T[2])\n",
        "\n",
        "theta = torch.Tensor(2,1,5)\n",
        "\n",
        "print(theta)\n",
        "\n",
        "print(theta[:,:,0])\n",
        "\n",
        "\"\"\"\n",
        "J = torch.Tensor(1,5)\n",
        "\n",
        "print(J)"
      ],
      "execution_count": 0,
      "outputs": [
        {
          "output_type": "stream",
          "text": [
            "tensor([[5.4926e-36, 0.0000e+00, 0.0000e+00, 0.0000e+00,        nan]])\n"
          ],
          "name": "stdout"
        }
      ]
    },
    {
      "metadata": {
        "deletable": false,
        "editable": false,
        "nbgrader": {
          "checksum": "eaa1ff5b63e1b744b02ea8afa8c533a5",
          "grade": false,
          "grade_id": "cell-e7fd81fa921c6327",
          "locked": true,
          "schema_version": 1,
          "solution": false
        },
        "id": "QzQYC0_1azqy",
        "colab_type": "text"
      },
      "cell_type": "markdown",
      "source": [
        "### Next, generate the plots on the right hand side. This figure is a plot of the cost function over the value of $\\theta_1$ as well as the updates of $\\theta_1$ over iterations."
      ]
    },
    {
      "metadata": {
        "deletable": false,
        "nbgrader": {
          "checksum": "af94209b76d722c3775a2015d1b90dbc",
          "grade": true,
          "grade_id": "cell-c9fa638485b0726e",
          "locked": false,
          "points": 1,
          "schema_version": 1,
          "solution": true
        },
        "id": "v3ZQpCGQazq0",
        "colab_type": "code",
        "colab": {}
      },
      "cell_type": "code",
      "source": [
        "# YOUR CODE HERE\n",
        "raise NotImplementedError()\n",
        "\n",
        "# add the plot axes labels and title\n",
        "plt.xlabel(r'$\\theta_1$')\n",
        "plt.ylabel(r'$J(\\theta_1)$')\n",
        "plt.title('Cost function')"
      ],
      "execution_count": 0,
      "outputs": []
    },
    {
      "metadata": {
        "deletable": false,
        "editable": false,
        "nbgrader": {
          "checksum": "d06192ebc2f3cc31e5c1d42b924f1283",
          "grade": false,
          "grade_id": "cell-e70124241b132a09",
          "locked": true,
          "schema_version": 1,
          "solution": false
        },
        "id": "djMgC7cpazq2",
        "colab_type": "text"
      },
      "cell_type": "markdown",
      "source": [
        "### Finally, generate a contour plot of the cost function"
      ]
    },
    {
      "metadata": {
        "deletable": false,
        "nbgrader": {
          "checksum": "c5a3cbc10e84dcf6671cd5f1ff181839",
          "grade": true,
          "grade_id": "cell-83e4d7737cbda3d1",
          "locked": false,
          "points": 1,
          "schema_version": 1,
          "solution": true
        },
        "id": "W7TSbAYPazq2",
        "colab_type": "code",
        "colab": {}
      },
      "cell_type": "code",
      "source": [
        "## Generate a grid of values for theta_0 and theta_1 and compute the cost function for every combination.\n",
        "\n",
        "theta_0_vals = np.linspace(-1.0,1,100)\n",
        "theta_1_vals = np.linspace(-4.0,4,100)\n",
        "theta = torch.Tensor(len(theta_0_vals),2)\n",
        "\n",
        "# Compute the cost function over every combination of values for theta in a variable called J which will then be plot below\n",
        "# YOUR CODE HERE\n",
        "raise NotImplementedError()\n",
        "\n",
        "xc,yc = np.meshgrid(theta_0_vals, theta_1_vals)\n",
        "contours = plt.contour(xc, yc, J, 20)\n",
        "plt.clabel(contours)"
      ],
      "execution_count": 0,
      "outputs": []
    }
  ]
}